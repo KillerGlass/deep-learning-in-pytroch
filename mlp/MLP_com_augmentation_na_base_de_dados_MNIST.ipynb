{
  "nbformat": 4,
  "nbformat_minor": 0,
  "metadata": {
    "colab": {
      "name": " MLP com augmentation na base de dados MNIST.ipynb",
      "provenance": [],
      "collapsed_sections": [],
      "authorship_tag": "ABX9TyPYXihKgwBjBmGNwMMuNWtw",
      "include_colab_link": true
    },
    "kernelspec": {
      "name": "python3",
      "display_name": "Python 3"
    },
    "language_info": {
      "name": "python"
    },
    "accelerator": "GPU",
    "gpuClass": "standard"
  },
  "cells": [
    {
      "cell_type": "markdown",
      "metadata": {
        "id": "view-in-github",
        "colab_type": "text"
      },
      "source": [
        "<a href=\"https://colab.research.google.com/github/KillerGlass/deep-learning-in-pytroch/blob/main/MLP_com_augmentation_na_base_de_dados_MNIST.ipynb\" target=\"_parent\"><img src=\"https://colab.research.google.com/assets/colab-badge.svg\" alt=\"Open In Colab\"/></a>"
      ]
    },
    {
      "cell_type": "markdown",
      "source": [
        "# Importando bibliotecas\n"
      ],
      "metadata": {
        "id": "Ch4HOmwKrCef"
      }
    },
    {
      "cell_type": "code",
      "source": [
        "\n",
        "import torch\n",
        "from torch import optim\n",
        "import torch.nn as nn\n",
        "import torch.nn.functional as F\n",
        "from torchvision import datasets\n",
        "import torchvision.transforms as transforms\n",
        "\n",
        "%matplotlib inline\n",
        "import numpy as np\n",
        "import matplotlib.pyplot as plt"
      ],
      "metadata": {
        "id": "aLeTh4UkrG77"
      },
      "execution_count": null,
      "outputs": []
    },
    {
      "cell_type": "markdown",
      "source": [
        "# Carregando os dados"
      ],
      "metadata": {
        "id": "Mr2VuPnZrL4R"
      }
    },
    {
      "cell_type": "code",
      "source": [
        "torch.manual_seed(123)"
      ],
      "metadata": {
        "colab": {
          "base_uri": "https://localhost:8080/"
        },
        "id": "ucruZwnRshO1",
        "outputId": "489023d6-bb9e-44bb-d472-8d0928f25b1d"
      },
      "execution_count": null,
      "outputs": [
        {
          "output_type": "execute_result",
          "data": {
            "text/plain": [
              "<torch._C.Generator at 0x7f9b66a3ba70>"
            ]
          },
          "metadata": {},
          "execution_count": 37
        }
      ]
    },
    {
      "cell_type": "code",
      "source": [
        "transform = transforms.Compose(\n",
        "        [transforms.ToTensor(),\n",
        "         transforms.RandomHorizontalFlip(),#rodar imagens na horizontal\n",
        "         transforms.RandomAffine(degrees = 7,#graus da imagem\n",
        "                                 translate = (0, 0.07),#mundanças na horizontal e vertical\n",
        "                                 shear =7,#cortes\n",
        "                                 scale =  (1, 1.2)),#zoom \n",
        "         transforms.Normalize((0.5,), (0.5,)),\n",
        "         ])"
      ],
      "metadata": {
        "id": "_SC3VgWisr1N"
      },
      "execution_count": null,
      "outputs": []
    },
    {
      "cell_type": "code",
      "source": [
        "train_aug = datasets.MNIST(root = '.', train=True, download=True, transform = transform)\n",
        "train = datasets.MNIST(root = '.', train=True, download=True, transform = transforms.ToTensor())\n",
        "test = datasets.MNIST(root = '.', train=False, download=True, transform = transforms.ToTensor())"
      ],
      "metadata": {
        "id": "faon-ocbs7UN"
      },
      "execution_count": null,
      "outputs": []
    },
    {
      "cell_type": "code",
      "source": [
        "train.data.shape"
      ],
      "metadata": {
        "colab": {
          "base_uri": "https://localhost:8080/"
        },
        "id": "Ze2SPHket0m5",
        "outputId": "2dcc38d7-d247-4765-f29f-9e06e200590d"
      },
      "execution_count": null,
      "outputs": [
        {
          "output_type": "execute_result",
          "data": {
            "text/plain": [
              "torch.Size([60000, 28, 28])"
            ]
          },
          "metadata": {},
          "execution_count": 40
        }
      ]
    },
    {
      "cell_type": "code",
      "source": [
        "augmentation = torch.utils.data.ConcatDataset([train, train_aug])"
      ],
      "metadata": {
        "id": "s_tLLrnVUUHh"
      },
      "execution_count": null,
      "outputs": []
    },
    {
      "cell_type": "code",
      "source": [
        "#aux = train_loader = torch.utils.data.DataLoader(augmentation,batch_size=200, shuffle=True)"
      ],
      "metadata": {
        "id": "i3YWUeAhUYOR"
      },
      "execution_count": null,
      "outputs": []
    },
    {
      "cell_type": "code",
      "source": [
        "#visualizar os numeros\n",
        "count = 0\n",
        "size = 20\n",
        "plt.figure(figsize=(18, 10))\n",
        "for i in np.random.permutation(train.data.shape[0])[:size]:\n",
        "    count = count + 1\n",
        "    plt.subplot(1, size, count)\n",
        "    plt.axhline('')#retirar medidas do grafico\n",
        "    plt.axvline('')\n",
        "    plt.text(x=10, y=-10, s=train.targets[i], fontsize=8)\n",
        "    plt.imshow(train.data[i].reshape(28, 28), cmap=plt.cm.Greys)\n",
        "plt.show()"
      ],
      "metadata": {
        "colab": {
          "base_uri": "https://localhost:8080/",
          "height": 98
        },
        "id": "eIcUeM4v1YCX",
        "outputId": "cf61a7a3-f593-4b43-b43a-698b1f62cb9c"
      },
      "execution_count": null,
      "outputs": [
        {
          "output_type": "display_data",
          "data": {
            "text/plain": [
              "<Figure size 1296x720 with 20 Axes>"
            ],
            "image/png": "[encoded data removed]"
          },
          "metadata": {
            "needs_background": "light"
          }
        }
      ]
    },
    {
      "cell_type": "code",
      "source": [
        "#visualizar os numeros\n",
        "count = 0\n",
        "size = 20\n",
        "plt.figure(figsize=(18, 10))\n",
        "for i in np.random.permutation(train_aug.data.shape[0])[:size]:\n",
        "    count = count + 1\n",
        "    plt.subplot(1, size, count)\n",
        "    plt.axhline('')#retirar medidas do grafico\n",
        "    plt.axvline('')\n",
        "    plt.text(x=10, y=-10, s=train_aug.targets[i], fontsize=8)\n",
        "    plt.imshow(train_aug.data[i].reshape(28, 28), cmap=plt.cm.Greys)\n",
        "plt.show()"
      ],
      "metadata": {
        "colab": {
          "base_uri": "https://localhost:8080/",
          "height": 98
        },
        "id": "k8LYuEF4VPy5",
        "outputId": "b799ec94-8d29-4e24-c4d2-5f0997e1fa71"
      },
      "execution_count": null,
      "outputs": [
        {
          "output_type": "display_data",
          "data": {
            "text/plain": [
              "<Figure size 1296x720 with 20 Axes>"
            ],
            "image/png": "[encoded data removed]"
          },
          "metadata": {
            "needs_background": "light"
          }
        }
      ]
    },
    {
      "cell_type": "code",
      "source": [
        "train_loader = torch.utils.data.DataLoader(augmentation,batch_size=200, shuffle=True)\n",
        "test_loader = torch.utils.data.DataLoader(test,batch_size=128, shuffle=True)"
      ],
      "metadata": {
        "id": "BEBmk3He9XZG"
      },
      "execution_count": null,
      "outputs": []
    },
    {
      "cell_type": "markdown",
      "source": [
        "# Construção do modelo"
      ],
      "metadata": {
        "id": "OPdS5XXQxC80"
      }
    },
    {
      "cell_type": "code",
      "source": [
        "class classficador_torch(nn.Module):\n",
        "\n",
        "  def __init__(self):\n",
        "    super().__init__()\n",
        "    #criando as camadas convulocionais\n",
        "\n",
        "    self.layers = nn.Sequential(\n",
        "      nn.Flatten(),\n",
        "      nn.Linear(28 * 28, 397),\n",
        "      nn.ReLU(),\n",
        "      nn.Linear(397, 397),\n",
        "      nn.ReLU(),\n",
        "      nn.Linear(397, 397),\n",
        "      nn.ReLU(),\n",
        "      nn.Linear(397, 10)\n",
        "    )\n",
        "\n",
        "\n",
        "  def forward(self,x):\n",
        "\n",
        "    return self.layers(x)\n"
      ],
      "metadata": {
        "id": "BJGichSo2Fwu"
      },
      "execution_count": null,
      "outputs": []
    },
    {
      "cell_type": "code",
      "source": [
        "mlp = classficador_torch()"
      ],
      "metadata": {
        "id": "sVJw6j-L7gqD"
      },
      "execution_count": null,
      "outputs": []
    },
    {
      "cell_type": "code",
      "source": [
        "criterio = nn.CrossEntropyLoss()#funçao de perda\n",
        "optimizer = torch.optim.Adam(mlp.parameters())\n",
        "#optimizer = torch.optim.SGD(mlp.parameters(),lr=0.001, momentum=0.9)"
      ],
      "metadata": {
        "id": "8e2TbQoC7LUD"
      },
      "execution_count": null,
      "outputs": []
    },
    {
      "cell_type": "code",
      "source": [
        "device = 'cuda' if torch.cuda.is_available else 'cpu'\n",
        "device"
      ],
      "metadata": {
        "colab": {
          "base_uri": "https://localhost:8080/",
          "height": 35
        },
        "id": "B100n-QmIQCj",
        "outputId": "49e556d8-b25e-4494-8973-25918f2ee4ac"
      },
      "execution_count": null,
      "outputs": [
        {
          "output_type": "execute_result",
          "data": {
            "text/plain": [
              "'cuda'"
            ],
            "application/vnd.google.colaboratory.intrinsic+json": {
              "type": "string"
            }
          },
          "metadata": {},
          "execution_count": 49
        }
      ]
    },
    {
      "cell_type": "code",
      "source": [
        "mlp.to(device)"
      ],
      "metadata": {
        "colab": {
          "base_uri": "https://localhost:8080/"
        },
        "id": "dmwIrYXjKFzk",
        "outputId": "f4066dca-e50c-47f5-fea0-ce98c6010b04"
      },
      "execution_count": null,
      "outputs": [
        {
          "output_type": "execute_result",
          "data": {
            "text/plain": [
              "classficador_torch(\n",
              "  (layers): Sequential(\n",
              "    (0): Flatten(start_dim=1, end_dim=-1)\n",
              "    (1): Linear(in_features=784, out_features=397, bias=True)\n",
              "    (2): ReLU()\n",
              "    (3): Linear(in_features=397, out_features=397, bias=True)\n",
              "    (4): ReLU()\n",
              "    (5): Linear(in_features=397, out_features=397, bias=True)\n",
              "    (6): ReLU()\n",
              "    (7): Linear(in_features=397, out_features=10, bias=True)\n",
              "  )\n",
              ")"
            ]
          },
          "metadata": {},
          "execution_count": 50
        }
      ]
    },
    {
      "cell_type": "markdown",
      "source": [
        "# Treinamento do modelo"
      ],
      "metadata": {
        "id": "Tvyku5zy9KLt"
      }
    },
    {
      "cell_type": "code",
      "source": [
        "mlp.train()"
      ],
      "metadata": {
        "colab": {
          "base_uri": "https://localhost:8080/"
        },
        "id": "6dfzCDPuKu3O",
        "outputId": "c3e63a83-678c-41e3-c98b-cdc2289e202e"
      },
      "execution_count": null,
      "outputs": [
        {
          "output_type": "execute_result",
          "data": {
            "text/plain": [
              "classficador_torch(\n",
              "  (layers): Sequential(\n",
              "    (0): Flatten(start_dim=1, end_dim=-1)\n",
              "    (1): Linear(in_features=784, out_features=397, bias=True)\n",
              "    (2): ReLU()\n",
              "    (3): Linear(in_features=397, out_features=397, bias=True)\n",
              "    (4): ReLU()\n",
              "    (5): Linear(in_features=397, out_features=397, bias=True)\n",
              "    (6): ReLU()\n",
              "    (7): Linear(in_features=397, out_features=10, bias=True)\n",
              "  )\n",
              ")"
            ]
          },
          "metadata": {},
          "execution_count": 51
        }
      ]
    },
    {
      "cell_type": "code",
      "source": [
        "def forward(model,optimizer,inputs,labels,mode):\n",
        "\n",
        "  if mode == 'Training':\n",
        "    optimizer.zero_grad()\n",
        "\n",
        "  inputs , labels = inputs.to(device), labels.to(device)\n",
        "\n",
        "  outputs = model(inputs)#classificador.forward é a mesma coisa, camada de aprendizado\n",
        "\n",
        "  loss = criterio(outputs,labels)#calculando o err\n",
        "\n",
        "  if mode == 'Training':\n",
        "    loss.backward()\n",
        "    optimizer.step()\n",
        "\n",
        "  #calculando acuracia\n",
        "  #softmax retorna uma probabilidade, k = 1 resultado de maior valor, dim = 1 processamento por coluna\n",
        "  res_p, res_class = F.softmax(outputs).topk(k=1, dim = 1)\n",
        "  #verificando se o classificador acertou ou errou, depois de fazer uma comparaçao entre os vetores de boleanos\n",
        "  #se faz a media\n",
        "  accuracy = torch.mean((res_class == labels.view(*res_class.shape)).type(torch.float))\n",
        "\n",
        "  \n",
        "  return model, loss, accuracy, optimizer\n",
        "\n",
        "  "
      ],
      "metadata": {
        "id": "Z-z8_NYcAq2t"
      },
      "execution_count": null,
      "outputs": []
    },
    {
      "cell_type": "code",
      "source": [
        "for epoch in range(25):\n",
        "  running_loss = 0\n",
        "  running_acurracy = 0\n",
        "\n",
        "  for i,data in enumerate(train_loader):\n",
        "    #inputs sao entradas, previsores. Labels as respostas reais\n",
        "    inputs, labels = data\n",
        "    #zerando os gradientes. Gradientes é a direção para onde vai ser feito os ajustes do peso \n",
        "\n",
        "    mlp, loss, accuracy, optimizer = forward(mlp,optimizer,inputs,labels,\"Training\")\n",
        "\n",
        "    running_loss += loss.item()\n",
        "\n",
        "    running_acurracy += accuracy\n",
        "\n",
        "    #print(\"Epocas: {}| Iteração {} | Loss: {:.5f} | Precisao {:03.2f}\".format(epoch+1,i + 1, loss,accuracy))\n",
        "\n",
        "  \n",
        "  #a divisao ocorre para ter uma proporção de erro\n",
        "  print(\"Epocas: {} | Loss: {:.5f}, Precisao {:03.2f}\".format(epoch+1,running_loss/len(train_loader), running_acurracy/len(train_loader)))"
      ],
      "metadata": {
        "colab": {
          "base_uri": "https://localhost:8080/"
        },
        "id": "C2RlEegsAyb7",
        "outputId": "3c738dc2-ca80-4a6e-f12a-1118a61e66a8"
      },
      "execution_count": null,
      "outputs": [
        {
          "output_type": "stream",
          "name": "stderr",
          "text": [
            "/usr/local/lib/python3.7/dist-packages/ipykernel_launcher.py:18: UserWarning: Implicit dimension choice for softmax has been deprecated. Change the call to include dim=X as an argument.\n"
          ]
        },
        {
          "output_type": "stream",
          "name": "stdout",
          "text": [
            "Epocas: 1 | Loss: 0.41886, Precisao 0.87\n",
            "Epocas: 2 | Loss: 0.18100, Precisao 0.94\n",
            "Epocas: 3 | Loss: 0.14070, Precisao 0.96\n",
            "Epocas: 4 | Loss: 0.11809, Precisao 0.96\n",
            "Epocas: 5 | Loss: 0.10246, Precisao 0.97\n",
            "Epocas: 6 | Loss: 0.09640, Precisao 0.97\n",
            "Epocas: 7 | Loss: 0.08673, Precisao 0.97\n",
            "Epocas: 8 | Loss: 0.08056, Precisao 0.97\n",
            "Epocas: 9 | Loss: 0.07559, Precisao 0.98\n",
            "Epocas: 10 | Loss: 0.07201, Precisao 0.98\n",
            "Epocas: 11 | Loss: 0.06972, Precisao 0.98\n",
            "Epocas: 12 | Loss: 0.06578, Precisao 0.98\n",
            "Epocas: 13 | Loss: 0.06342, Precisao 0.98\n",
            "Epocas: 14 | Loss: 0.06012, Precisao 0.98\n",
            "Epocas: 15 | Loss: 0.06079, Precisao 0.98\n",
            "Epocas: 16 | Loss: 0.05672, Precisao 0.98\n",
            "Epocas: 17 | Loss: 0.05526, Precisao 0.98\n",
            "Epocas: 18 | Loss: 0.05208, Precisao 0.98\n",
            "Epocas: 19 | Loss: 0.05295, Precisao 0.98\n",
            "Epocas: 20 | Loss: 0.05301, Precisao 0.98\n",
            "Epocas: 21 | Loss: 0.05101, Precisao 0.98\n",
            "Epocas: 22 | Loss: 0.04926, Precisao 0.98\n",
            "Epocas: 23 | Loss: 0.04695, Precisao 0.99\n",
            "Epocas: 24 | Loss: 0.04643, Precisao 0.99\n",
            "Epocas: 25 | Loss: 0.04606, Precisao 0.99\n"
          ]
        }
      ]
    },
    {
      "cell_type": "markdown",
      "source": [
        "#Avaliação do modelo"
      ],
      "metadata": {
        "id": "E55ipFnO7D5L"
      }
    },
    {
      "cell_type": "code",
      "source": [
        "running_acurracy = 0\n",
        "mlp.eval()\n",
        "for i,data in enumerate(test_loader):\n",
        "  #inputs sao entradas, previsores. Labels as respostas reais\n",
        "  inputs, labels = data\n",
        "  #zerando os gradientes. Gradientes é a direção para onde vai ser feito os ajustes do peso \n",
        "\n",
        "  mlp, loss, accuracy, optimizer = forward(mlp,optimizer,inputs,labels,\"Test\")\n",
        "\n",
        "  running_loss += loss.item()\n",
        "\n",
        "  running_acurracy += accuracy\n",
        "\n",
        "print(\"Precisao {:03.2f}\".format(running_acurracy/len(test_loader)))"
      ],
      "metadata": {
        "id": "DjfTf1ug7DV3",
        "colab": {
          "base_uri": "https://localhost:8080/"
        },
        "outputId": "42fa63b4-5123-4568-8f98-bd602cdbb3a3"
      },
      "execution_count": null,
      "outputs": [
        {
          "output_type": "stream",
          "name": "stderr",
          "text": [
            "/usr/local/lib/python3.7/dist-packages/ipykernel_launcher.py:18: UserWarning: Implicit dimension choice for softmax has been deprecated. Change the call to include dim=X as an argument.\n"
          ]
        },
        {
          "output_type": "stream",
          "name": "stdout",
          "text": [
            "Precisao 0.99\n"
          ]
        }
      ]
    },
    {
      "cell_type": "code",
      "source": [
        "#visualizar os resultados\n",
        "images = []\n",
        "count = 0\n",
        "size = 40\n",
        "plt.figure(figsize=(18, 10))\n",
        "for i in range(40):\n",
        "    imagem = next(iter(test_loader))[0][i].view(28,28)\n",
        "\n",
        "    img = imagem.view(1,1,28,28)\n",
        "    img = img.to(device)\n",
        "    prev = mlp.forward(img)\n",
        "    prev = F.softmax(prev)\n",
        "    prev = np.argmax(prev.cpu().detach().numpy())\n",
        "    \n",
        "    count = count + 1\n",
        "    plt.subplot(1, size, count)\n",
        "    plt.axhline('')#retirar medidas do grafico\n",
        "    plt.axvline('')\n",
        "    plt.text(x=15, y=-15, s=prev, fontsize=8)\n",
        "    plt.imshow(imagem.reshape(28, 28), cmap=plt.cm.Greys)\n",
        "plt.show()"
      ],
      "metadata": {
        "id": "TyIFxLwx6UGW",
        "colab": {
          "base_uri": "https://localhost:8080/",
          "height": 108
        },
        "outputId": "a0ef4671-b30a-4fc3-b8af-2e8bf4470b8a"
      },
      "execution_count": null,
      "outputs": [
        {
          "output_type": "stream",
          "name": "stderr",
          "text": [
            "/usr/local/lib/python3.7/dist-packages/ipykernel_launcher.py:12: UserWarning: Implicit dimension choice for softmax has been deprecated. Change the call to include dim=X as an argument.\n",
            "  if sys.path[0] == '':\n"
          ]
        },
        {
          "output_type": "display_data",
          "data": {
            "text/plain": [
              "<Figure size 1296x720 with 40 Axes>"
            ],
            "image/png": "[encoded data removed]"
          },
          "metadata": {
            "needs_background": "light"
          }
        }
      ]
    },
    {
      "cell_type": "code",
      "source": [
        "torch.save(mlp.state_dict(), \"mlp.pt\")"
      ],
      "metadata": {
        "id": "SS4qpT_NLyw1",
        "colab": {
          "base_uri": "https://localhost:8080/",
          "height": 165
        },
        "outputId": "cce18616-cc2d-4ed3-ddfe-938f245bd24f"
      },
      "execution_count": 1,
      "outputs": [
        {
          "output_type": "error",
          "ename": "NameError",
          "evalue": "ignored",
          "traceback": [
            "\u001b[0;31m---------------------------------------------------------------------------\u001b[0m",
            "\u001b[0;31mNameError\u001b[0m                                 Traceback (most recent call last)",
            "\u001b[0;32m<ipython-input-1-92c0830213ed>\u001b[0m in \u001b[0;36m<module>\u001b[0;34m\u001b[0m\n\u001b[0;32m----> 1\u001b[0;31m \u001b[0mtorch\u001b[0m\u001b[0;34m.\u001b[0m\u001b[0msave\u001b[0m\u001b[0;34m(\u001b[0m\u001b[0mmlp\u001b[0m\u001b[0;34m.\u001b[0m\u001b[0mstate_dict\u001b[0m\u001b[0;34m(\u001b[0m\u001b[0;34m)\u001b[0m\u001b[0;34m,\u001b[0m \u001b[0;34m\"mlp.pt\"\u001b[0m\u001b[0;34m)\u001b[0m\u001b[0;34m\u001b[0m\u001b[0;34m\u001b[0m\u001b[0m\n\u001b[0m",
            "\u001b[0;31mNameError\u001b[0m: name 'torch' is not defined"
          ]
        }
      ]
    },
    {
      "cell_type": "code",
      "source": [
        ""
      ],
      "metadata": {
        "id": "wzoJxslzIFCy"
      },
      "execution_count": null,
      "outputs": []
    }
  ]
}